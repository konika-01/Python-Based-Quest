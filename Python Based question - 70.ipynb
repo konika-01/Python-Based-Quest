{
 "cells": [
  {
   "cell_type": "markdown",
   "id": "15450b7c-baad-4098-b4ba-24102e41d364",
   "metadata": {},
   "source": [
    "### Python Based Questions"
   ]
  },
  {
   "cell_type": "markdown",
   "id": "9b4f62b0-9db8-44e4-8049-63e553a6ab66",
   "metadata": {},
   "source": [
    "Q1) Write the code to print sum_val of\n",
    "a) 10 odd numbers starting from 1 using for loop\n",
    "b) 15 even numbers starting from 2 using while loop"
   ]
  },
  {
   "cell_type": "code",
   "execution_count": 1,
   "id": "9ca0c92c-72c4-484a-8c55-099859140ef8",
   "metadata": {},
   "outputs": [
    {
     "name": "stdout",
     "output_type": "stream",
     "text": [
      "100\n",
      "[1, 3, 5, 7, 9, 11, 13, 15, 17, 19]\n"
     ]
    }
   ],
   "source": [
    "# a.1\n",
    "sum_val = 0\n",
    "num = 1\n",
    "odd_list = []\n",
    "for i in range(10):\n",
    "    sum_val+=num\n",
    "    odd_list.append(num)\n",
    "    num+=2\n",
    "   \n",
    "print(sum_val)\n",
    "print(odd_list)"
   ]
  },
  {
   "cell_type": "code",
   "execution_count": 2,
   "id": "ef155206-5e16-41ad-afc7-c7bc0d4042b6",
   "metadata": {},
   "outputs": [
    {
     "name": "stdout",
     "output_type": "stream",
     "text": [
      "100\n"
     ]
    }
   ],
   "source": [
    "# a.2\n",
    "sum_val = 0 \n",
    "count = 0\n",
    "for i in range(1,100): # sufficient range to find 10 odd numbers\n",
    "    if i%2 != 0:\n",
    "        sum_val += i \n",
    "        count +=1\n",
    "    if count == 10:\n",
    "        break \n",
    "print(sum_val)"
   ]
  },
  {
   "cell_type": "code",
   "execution_count": 3,
   "id": "a78c5360-0fd6-4b1d-b201-a35347f26519",
   "metadata": {},
   "outputs": [
    {
     "name": "stdout",
     "output_type": "stream",
     "text": [
      "240\n",
      "[2, 4, 6, 8, 10, 12, 14, 16, 18, 20, 22, 24, 26, 28, 30]\n"
     ]
    }
   ],
   "source": [
    "#b.1\n",
    "n = 2\n",
    "sum_val = 0\n",
    "count = 0 \n",
    "even_list = []\n",
    "while count < 15:\n",
    "    if n%2 ==0:\n",
    "        sum_val+= n\n",
    "        count+=1\n",
    "        even_list.append(n)\n",
    "    n+=1\n",
    "print(sum_val)\n",
    "print(even_list)"
   ]
  },
  {
   "cell_type": "markdown",
   "id": "b457d9ce-a5b0-414b-a14a-c73e920612a1",
   "metadata": {},
   "source": [
    "Q2) Consider any list of numbers\n",
    "a) add 5 to each even number and print them.\n",
    "b) multiple 3 to each odd number and print them."
   ]
  },
  {
   "cell_type": "code",
   "execution_count": 4,
   "id": "d2e3d7e6-cb91-4b9a-9c90-46cf454c9053",
   "metadata": {},
   "outputs": [
    {
     "name": "stdout",
     "output_type": "stream",
     "text": [
      "[7, 9, 11, 13, 15, 17, 19, 21, 23]\n"
     ]
    }
   ],
   "source": [
    "# a \n",
    "even = [] \n",
    "for i in range(1,20):\n",
    "    if i%2==0:\n",
    "        even.append(i+5)\n",
    "print(even)"
   ]
  },
  {
   "cell_type": "code",
   "execution_count": 5,
   "id": "c5af732d-63e3-4fce-a75e-67edc62ee341",
   "metadata": {},
   "outputs": [
    {
     "name": "stdout",
     "output_type": "stream",
     "text": [
      "[3, 9, 15, 21, 27, 33, 39, 45, 51, 57]\n"
     ]
    }
   ],
   "source": [
    "# b.1\n",
    "odd = []\n",
    "for i in range(1,20):\n",
    "    if i%2!=0:\n",
    "        odd.append(i*3)\n",
    "print(odd)"
   ]
  },
  {
   "cell_type": "code",
   "execution_count": 6,
   "id": "8de2ae8b-68ec-4510-b5c0-7268201434ce",
   "metadata": {},
   "outputs": [
    {
     "name": "stdout",
     "output_type": "stream",
     "text": [
      "[3, 9, 15, 21, 27, 33, 39, 45, 51, 57]\n"
     ]
    }
   ],
   "source": [
    "#b.2\n",
    "odd = [i*3 for i in range(1,20) if i%2!=0 ]\n",
    "print(odd)"
   ]
  },
  {
   "cell_type": "markdown",
   "id": "d2383cc3-0900-4816-9227-0ec364a569ef",
   "metadata": {},
   "source": [
    "Q3) Write a program that calculates the sum_val of all even numbers between 1 and 100 using a loop."
   ]
  },
  {
   "cell_type": "code",
   "execution_count": 7,
   "id": "b413330f-d08f-4d12-bfb0-7bdd119242a4",
   "metadata": {},
   "outputs": [
    {
     "name": "stdout",
     "output_type": "stream",
     "text": [
      "2550\n"
     ]
    }
   ],
   "source": [
    "sum_val = 0\n",
    "for i in range(1,101):\n",
    "    if i%2 == 0:\n",
    "        sum_val+=i\n",
    "print(sum_val)\n",
    "    "
   ]
  },
  {
   "cell_type": "markdown",
   "id": "cc31de9b-9d3e-4cc2-adc2-de01004dae9a",
   "metadata": {},
   "source": [
    "Q4) Accpet a number from the user and print\n",
    "a) All the factors of the numbers.\n",
    "b) Print even or odd depending on the number."
   ]
  },
  {
   "cell_type": "code",
   "execution_count": 8,
   "id": "fd7d9bde-26fa-423d-adff-e2281a1d412e",
   "metadata": {},
   "outputs": [
    {
     "name": "stdin",
     "output_type": "stream",
     "text": [
      "Provide the number :  12\n"
     ]
    },
    {
     "name": "stdout",
     "output_type": "stream",
     "text": [
      "[1, 2, 3, 4, 6, 12]\n",
      "even\n"
     ]
    }
   ],
   "source": [
    "n = int(input(\"Provide the number : \"))\n",
    "factors = []\n",
    "for i in range(1,n+1):\n",
    "    if n%i == 0:\n",
    "        factors.append(i)\n",
    "print(factors)\n",
    "if n%2 == 0:\n",
    "    print(\"even\")\n",
    "else:\n",
    "    print(\"odd\")"
   ]
  },
  {
   "cell_type": "markdown",
   "id": "b45ff452-5914-4c90-adf9-9cc77c0f9431",
   "metadata": {},
   "source": [
    "Q5) Accept a number k from the user and print\n",
    "a) Whether k is positive or negative number.\n",
    "b) If k is positive then print all the squares of the number starting from 1 upto k\n",
    "c) If k is neqative then print the average of all numbers from k upto -1"
   ]
  },
  {
   "cell_type": "code",
   "execution_count": 9,
   "id": "19e6fde9-1c12-40cb-857f-7cc02ef7f6df",
   "metadata": {},
   "outputs": [
    {
     "name": "stdin",
     "output_type": "stream",
     "text": [
      "enter the num:  12\n"
     ]
    },
    {
     "name": "stdout",
     "output_type": "stream",
     "text": [
      "K is positive\n",
      "[1, 4, 9, 16, 25, 36, 49, 64, 81, 100, 121, 144]\n"
     ]
    }
   ],
   "source": [
    "k  = int(input(\"enter the num: \")) \n",
    "if k < 0 :\n",
    "    print(\"K is negative\")\n",
    "else:\n",
    "    print(\"K is positive\")\n",
    "if k > 0 :\n",
    "    squares = []\n",
    "    for i in range(1,k+1):\n",
    "        squares.append(i**2)\n",
    "    print(squares)\n",
    "else:\n",
    "    sum_val = 0\n",
    "    count = 0 \n",
    "    for i in range(k,0):\n",
    "        sum_val+=i\n",
    "        count+=1\n",
    "    print(f\"mean is {sum_val/count}\")\n",
    "        "
   ]
  },
  {
   "cell_type": "markdown",
   "id": "800e433c-94ae-4dd7-9da7-9b98064ab9e9",
   "metadata": {},
   "source": [
    "Q6) Write a function to that prints the multiplication table of a given number n up to 10. Use n as argument."
   ]
  },
  {
   "cell_type": "code",
   "execution_count": 10,
   "id": "8eb60902-9d38-4f93-83b6-8a0ce2464e7f",
   "metadata": {},
   "outputs": [],
   "source": [
    "def mul_table(n):\n",
    "    for i in range(1,n+1):\n",
    "        print(f\"{i}*{n} = {i*n}\") "
   ]
  },
  {
   "cell_type": "code",
   "execution_count": 11,
   "id": "b211779b-0240-4732-992a-1d8bf75eb94f",
   "metadata": {},
   "outputs": [
    {
     "name": "stdout",
     "output_type": "stream",
     "text": [
      "1*10 = 10\n",
      "2*10 = 20\n",
      "3*10 = 30\n",
      "4*10 = 40\n",
      "5*10 = 50\n",
      "6*10 = 60\n",
      "7*10 = 70\n",
      "8*10 = 80\n",
      "9*10 = 90\n",
      "10*10 = 100\n"
     ]
    }
   ],
   "source": [
    "mul_table(10)"
   ]
  },
  {
   "cell_type": "markdown",
   "id": "3c3acc97-49e4-4bb3-b14b-3368cc6d9a9e",
   "metadata": {},
   "source": [
    "Q7) Accpet an input from the user in the range 1-26. Generate the corresponding\n",
    "a) upper case alphabets for all the multiple of 3 less than equal to that number\n",
    "'a' - 'z' = 97 to 122\n",
    "'A' - 'Z' = 65 to 90"
   ]
  },
  {
   "cell_type": "code",
   "execution_count": 12,
   "id": "e349176d-48db-4023-87db-832b79fe5cc2",
   "metadata": {},
   "outputs": [
    {
     "name": "stdin",
     "output_type": "stream",
     "text": [
      "enter number between 1 to 26: 12\n"
     ]
    },
    {
     "name": "stdout",
     "output_type": "stream",
     "text": [
      "C F I L "
     ]
    }
   ],
   "source": [
    "n = int(input(\"enter number between 1 to 26:\" ))\n",
    "if 1<=n<=26:\n",
    "    for i in range(1,n+1):\n",
    "        if i %3 == 0 :\n",
    "            print(chr(64+i),end = \" \")\n",
    "else:\n",
    "    print(\"invalid number enter between 1 to 26\")"
   ]
  },
  {
   "cell_type": "markdown",
   "id": "58abc13f-3d95-4eb5-a936-0d75e1f52504",
   "metadata": {},
   "source": [
    "Q8) Accpet a number from user. Find the sum_val and product of its digits."
   ]
  },
  {
   "cell_type": "code",
   "execution_count": 13,
   "id": "46c5293c-0430-4358-ae5e-51118d919b82",
   "metadata": {},
   "outputs": [
    {
     "name": "stdin",
     "output_type": "stream",
     "text": [
      "enter the number:  112\n"
     ]
    },
    {
     "name": "stdout",
     "output_type": "stream",
     "text": [
      "sum_val is  4\n",
      "product is  2\n"
     ]
    }
   ],
   "source": [
    "num = int(input(\"enter the number: \"))\n",
    "sum_val = 0 \n",
    "prod  = 1\n",
    "while num > 0:\n",
    "    sd  = num % 10 \n",
    "    sum_val += sd\n",
    "    prod *= sd\n",
    "    num = num//10\n",
    "print(\"sum_val is \",sum_val)\n",
    "print(\"product is \",prod)"
   ]
  },
  {
   "cell_type": "markdown",
   "id": "dd757be6-c9cc-41e9-ad8d-641d40f71518",
   "metadata": {},
   "source": [
    "Q9) Accept date as input from user in format YYYY-MM-DD. Add 5 year to the given date and return the result in format MM/DD/YY (without any library)"
   ]
  },
  {
   "cell_type": "code",
   "execution_count": null,
   "id": "46c5b719-9bc0-4f09-bf11-a7b808a69b93",
   "metadata": {},
   "outputs": [],
   "source": [
    "date = \"2022-01-27\"\n",
    "d = date.split(\"-\")\n",
    "new_date = d[1] + \"/\" + d[2] + \"/\" + str(int(d[0]) + 5)\n",
    "print(new_date)"
   ]
  },
  {
   "cell_type": "markdown",
   "id": "79937292-789a-42bf-9610-eba5b8b0fc86",
   "metadata": {},
   "source": [
    "Q10) Create a Rock-Paper-Scissor game between user and computer where computer selects a ranodm value between Rock, paper or scissor and user enters a value between Rock, paper or scissor. Decide the winner between User and Computer based on following rules Rules\n",
    "a) Rock and Paper => Paper wins (as Paper covers rock).\n",
    "b) Rock and Scissors => Rock wins (as Rock smashes paper).\n",
    "c) Paper and Scissors => Scissors (as Scissors cut papers).\n",
    "d) If user enters anything other than Rock, Paper or Scissors => Invalid Entry"
   ]
  },
  {
   "cell_type": "code",
   "execution_count": null,
   "id": "8d63169a-6c15-416d-97c0-c180b40ba621",
   "metadata": {},
   "outputs": [],
   "source": [
    "import random\n",
    "choices = [\"rock\",\"paper\",\"scissors\"]\n",
    "computer_choice = random.choice(choices)\n",
    "user_choice = input(\"select between rock,paper,scissors:\").lower()\n",
    "\n",
    "print(\"user choice\",user_choice)\n",
    "print(\"computer choice\", computer_choice)\n",
    "if user_choice not in [\"rock\",\"paper\",\"scissors\"]:\n",
    "    print(\"invalid user entry\")\n",
    "elif computer_choice == user_choice:\n",
    "    print(\"it is a tie\")\n",
    "elif computer_choice == \"rock\":\n",
    "    if user_choice == \"paper\":\n",
    "        print(\"user wins\")\n",
    "    else:\n",
    "        print(\"computer wins\")\n",
    "elif computer_choice==\"paper\":\n",
    "    if user_choice == \"rock\":\n",
    "        print(\"computer wins\")\n",
    "    else:\n",
    "        print(\"user wins\")\n",
    "elif computer_choice==\"scissors\":\n",
    "    if user_choice == \"rock\":\n",
    "        print(\"user wins\")\n",
    "    else:\n",
    "        print(\"computer wins\")\n",
    "\n",
    "    "
   ]
  },
  {
   "cell_type": "markdown",
   "id": "c7c5beb2-a8b2-441c-96ab-f5830e6c1fb9",
   "metadata": {},
   "source": [
    "Q11) A list of words is given. Convert the words into uppercase."
   ]
  },
  {
   "cell_type": "code",
   "execution_count": null,
   "id": "1b7a513b-b759-485c-8e45-90c54f159ef6",
   "metadata": {},
   "outputs": [],
   "source": [
    "list1 = ['inDia','NepaL','AuStraLia','IrEland','jaPAn','egypt']\n",
    "new_list = []\n",
    "for i in list1:\n",
    "    new_list.append(i.upper())\n",
    "print(new_list)"
   ]
  },
  {
   "cell_type": "markdown",
   "id": "68ea97ad-c5a9-44e5-b2ba-cd433b1edaa4",
   "metadata": {},
   "source": [
    "Q12) Accept a list of electronic products from the user. Write a program to extract the words from the given list which have their first character as upper case"
   ]
  },
  {
   "cell_type": "code",
   "execution_count": null,
   "id": "56671e30-d585-45dc-b33c-dd93de4f07c0",
   "metadata": {},
   "outputs": [],
   "source": [
    "list1 = ['Laptop', 'desktop','mobile', 'Smartwatch', 'Drones']\n",
    "new_list = []\n",
    "for i in list1:\n",
    "    if i[0] == i[0][0].upper():\n",
    "        new_list.append(i)\n",
    "print(new_list)"
   ]
  },
  {
   "cell_type": "code",
   "execution_count": null,
   "id": "020e6994-8c7b-4d73-bae8-08c417b3e719",
   "metadata": {},
   "outputs": [],
   "source": [
    "# OR\n",
    "list1 = ['Laptop', 'desktop','mobile', 'Smartwatch', 'Drones']\n",
    "new_list = []\n",
    "for i in list1:\n",
    "    if i[0].isupper():\n",
    "        new_list.append(i)\n",
    "print(new_list)\n"
   ]
  },
  {
   "cell_type": "markdown",
   "id": "5f7d79c8-8536-4590-8568-bd326f42b605",
   "metadata": {},
   "source": [
    "Q13) Write a program swap the keys to values and values to keys in the given dictionary.\n",
    "Course = {'Tableau':10,'Java':20, 'Azure':35, 'AWS':45,'Kubernetes':55}"
   ]
  },
  {
   "cell_type": "code",
   "execution_count": null,
   "id": "d140402d-1ac6-41f4-a8ae-4ad43b9bce35",
   "metadata": {},
   "outputs": [],
   "source": [
    "Course = {'Tableau':10,'Java':20, 'Azure':35, 'AWS':45,'Kubernetes':55}\n",
    "course = {}\n",
    "for k,v in Course.items():\n",
    "    course[v]=k\n",
    "print(course)\n",
    "    "
   ]
  },
  {
   "cell_type": "markdown",
   "id": "cb627d65-1d6a-4a16-a220-7d05dfbe3846",
   "metadata": {},
   "source": [
    "Q14) Define a function to check whether a number is in a range (500,50000) or not."
   ]
  },
  {
   "cell_type": "code",
   "execution_count": null,
   "id": "ee52bdfd-3294-4619-8389-f4152999a678",
   "metadata": {},
   "outputs": [],
   "source": [
    "def check_num(n):\n",
    "    if 500 <= n <= 50000:\n",
    "        print('n is in the range')\n",
    "    else:\n",
    "        print('n is not in the range')"
   ]
  },
  {
   "cell_type": "code",
   "execution_count": null,
   "id": "2b2cef3b-bccb-4000-803b-df102b0ba139",
   "metadata": {},
   "outputs": [],
   "source": [
    "check_num(888)"
   ]
  },
  {
   "cell_type": "markdown",
   "id": "1948425e-a957-4977-9d43-821e732b02ce",
   "metadata": {},
   "source": [
    "Q15) Accept a list of marks from the user. Write a program to calculate the sum_val and average of all elements in the list."
   ]
  },
  {
   "cell_type": "code",
   "execution_count": 23,
   "id": "2cfec2de-4786-415b-93ba-322cb3f99033",
   "metadata": {},
   "outputs": [],
   "source": [
    "list1 = [78,56,85,67,93,80,58]\n",
    "def sum_avg(list1):\n",
    "    sum_val= sum(list1)\n",
    "    avg = sum_val/len(list1)\n",
    "    print(\"sum_val\",sum_val)\n",
    "    print(\"avg\",round(avg,2))"
   ]
  },
  {
   "cell_type": "code",
   "execution_count": 24,
   "id": "ae3453b2-139b-4729-bd12-fac761e7843e",
   "metadata": {},
   "outputs": [
    {
     "name": "stdout",
     "output_type": "stream",
     "text": [
      "sum_val 517\n",
      "avg 73.86\n"
     ]
    }
   ],
   "source": [
    "sum_avg(list1)"
   ]
  },
  {
   "cell_type": "markdown",
   "id": "5461f28b-6be0-4324-a747-a163b39c8e9c",
   "metadata": {},
   "source": [
    "Q16) Accept a list of dates (dd-mm-yyyy) from the user. Create a new list that stores years i.e. the 'yyyy' part extracted from the dates in the given list."
   ]
  },
  {
   "cell_type": "code",
   "execution_count": 27,
   "id": "6047d67a-805e-472e-b77c-741033359a9a",
   "metadata": {},
   "outputs": [
    {
     "name": "stdout",
     "output_type": "stream",
     "text": [
      "['2001', '2010', '2019', '2021']\n"
     ]
    }
   ],
   "source": [
    "datesList = ['23-10-2001','04-03-2010','12-06-2019','28-12-2021']\n",
    "new_list = []\n",
    "for i in datesList:\n",
    "    y = i.split(\"-\")\n",
    "    new_list.append(y[2])\n",
    "print(new_list)"
   ]
  },
  {
   "cell_type": "markdown",
   "id": "c45ed8e9-fe50-4f4f-b57e-cfe53fdbdf6c",
   "metadata": {},
   "source": [
    "Q17) Sort the given list in descending order of the second element of the tuple.\n",
    "planets = [(\"Earth\",3),(\"Jupiter\",5),(\"Mercury\",1),(\"Mars\",4), (\"Neptune\",8),(\"Saturn\",6),(\"Uranus\",7),(\"Venus\",2)]"
   ]
  },
  {
   "cell_type": "code",
   "execution_count": 46,
   "id": "6e80114a-8089-4039-9441-edde5173bf54",
   "metadata": {},
   "outputs": [
    {
     "name": "stdout",
     "output_type": "stream",
     "text": [
      "[('Neptune', 8), ('Uranus', 7), ('Saturn', 6), ('Jupiter', 5), ('Mars', 4), ('Earth', 3), ('Venus', 2), ('Mercury', 1)]\n"
     ]
    }
   ],
   "source": [
    "planets = [(\"Earth\",3),(\"Jupiter\",5),(\"Mercury\",1),(\"Mars\",4), (\"Neptune\",8),(\"Saturn\",6),(\"Uranus\",7),(\"Venus\",2)]\n",
    "Planets = sorted(planets,key = lambda x : x[1], reverse = True)\n",
    "print(Planets)"
   ]
  },
  {
   "cell_type": "markdown",
   "id": "c8d85faf-9329-48c5-9a68-d2f1d3ab1664",
   "metadata": {},
   "source": [
    "Q18) Accept a list of int from user. Replace all the odd numbers in the list with -1\n",
    "a) with list comprehension\n",
    "b) without list comprehension"
   ]
  },
  {
   "cell_type": "code",
   "execution_count": 57,
   "id": "5b3c4ce1-9fe1-4045-b8b2-0cb6ea77925d",
   "metadata": {},
   "outputs": [
    {
     "data": {
      "text/plain": [
       "[-1, 34, -1, 56, -1, 78, -1, 12, -1, -1, 38]"
      ]
     },
     "execution_count": 57,
     "metadata": {},
     "output_type": "execute_result"
    }
   ],
   "source": [
    "# a\n",
    "list1 = [23,34,45,56,67,78,89,12,15,57,38]\n",
    "updated_list = [-1 if i%2!=0 else i for i in list1 ]\n",
    "updated_list"
   ]
  },
  {
   "cell_type": "code",
   "execution_count": 58,
   "id": "f7ad079b-9265-44af-bbef-a66c160cabbb",
   "metadata": {},
   "outputs": [
    {
     "data": {
      "text/plain": [
       "[-1, 34, -1, 56, -1, 78, -1, 12, -1, -1, 38]"
      ]
     },
     "execution_count": 58,
     "metadata": {},
     "output_type": "execute_result"
    }
   ],
   "source": [
    "# b\n",
    "new_list = []\n",
    "for i in list1:\n",
    "    if i%2!=0:\n",
    "        new_list.append(-1)\n",
    "    else:\n",
    "        new_list.append(i)\n",
    "new_list"
   ]
  },
  {
   "cell_type": "markdown",
   "id": "0585164c-d5ae-4e5c-a853-8df54627dab2",
   "metadata": {},
   "source": [
    "Q19) Write a program to count the positive and negative numbers.\n",
    "num = [-45, 23, 32, -19, -6, 20, 27, 18, -12]"
   ]
  },
  {
   "cell_type": "code",
   "execution_count": 59,
   "id": "fdbea185-c213-4efe-b37b-d9ce935029b1",
   "metadata": {},
   "outputs": [
    {
     "name": "stdout",
     "output_type": "stream",
     "text": [
      "count_positive 5\n",
      "count_negative 4\n"
     ]
    }
   ],
   "source": [
    "num = [-45, 23, 32, -19, -6, 20, 27, 18, -12]\n",
    "cp = 0\n",
    "cn = 0\n",
    "for i in num:\n",
    "    if i > 0:\n",
    "        cp+=1\n",
    "    else:\n",
    "        cn+=1\n",
    "print(\"count_positive\",cp)\n",
    "print(\"count_negative\",cn)"
   ]
  },
  {
   "cell_type": "markdown",
   "id": "f3fe904e-98ac-4b3a-876a-deaf8ebc1256",
   "metadata": {},
   "source": [
    "Q20) Accept a list of int from user and a number k <len(list). Rotate the list from\n",
    "a) left to right by k and print the list using a function that takes list and k as arguments\n",
    "b) right to left by k and print the list using a function that takes list and k as arguments"
   ]
  },
  {
   "cell_type": "code",
   "execution_count": null,
   "id": "8faa176b-a0af-473e-ae30-82b433e8971c",
   "metadata": {},
   "outputs": [],
   "source": []
  },
  {
   "cell_type": "markdown",
   "id": "6046eae5-5338-475b-8160-c9389ea6d9bc",
   "metadata": {},
   "source": [
    "Q21) Accept a list of names(repeated) names and marks.Compute the sum of marks in form of a dict"
   ]
  },
  {
   "cell_type": "code",
   "execution_count": 64,
   "id": "99d38ddf-b148-431d-8a82-0e04689ef58f",
   "metadata": {},
   "outputs": [
    {
     "name": "stdout",
     "output_type": "stream",
     "text": [
      "{'A': 223, 'B': 96, 'C': 164, 'D': 143}\n"
     ]
    }
   ],
   "source": [
    "names = [\"A\", \"B\", \"A\" ,\"C\", \"D\",\"A\",\"B\", \"D\",\"C\"]\n",
    "marks = [78 ,45 ,89 ,91 ,76 ,56 ,51 ,67, 73]\n",
    "dict1 = {}\n",
    "for i in range(len(names)):\n",
    "    name = names[i]\n",
    "    mark = marks[i]\n",
    "\n",
    "    if name in dict1:\n",
    "        dict1[name] += mark\n",
    "    else:\n",
    "        dict1[name] = mark\n",
    "print(dict1)"
   ]
  },
  {
   "cell_type": "markdown",
   "id": "ba4aeb5c-9c9e-42e9-aa8d-4ddde6bc3506",
   "metadata": {},
   "source": [
    "Q22) WAF to print all the prime numbers between two numbers (n1,n2). The numbers (n1,n2) are passed as an argument"
   ]
  },
  {
   "cell_type": "code",
   "execution_count": 177,
   "id": "4c33095a-d711-49c3-8d7d-ff29b38fcedb",
   "metadata": {},
   "outputs": [],
   "source": [
    "def find_prime(n1,n2):\n",
    "    prime = []\n",
    "    for i in range(n1,n2+1):\n",
    "        c = 0\n",
    "        for j in range(1,i+1):\n",
    "            if i%j == 0:\n",
    "                c+=1\n",
    "        if c==2:\n",
    "            prime.append(i)  \n",
    "    print(prime)"
   ]
  },
  {
   "cell_type": "code",
   "execution_count": 179,
   "id": "c31e2ba4-3f36-4ce0-a1f0-9b0a43d07b94",
   "metadata": {},
   "outputs": [
    {
     "name": "stdout",
     "output_type": "stream",
     "text": [
      "[5, 7]\n"
     ]
    }
   ],
   "source": [
    "find_prime(5,10)"
   ]
  },
  {
   "cell_type": "markdown",
   "id": "74cdefb7-dbc9-471b-a8e4-025175df2a2e",
   "metadata": {},
   "source": [
    "Q23) Find the sports that are played indoor from the tuple given below.\n",
    "sports = (('Chess','indoor'), ('Cricket', 'Outdoor'), ('Carrom','indoOr'), ('Badminton','Indoor'), ('Football','Outdoor'), ('Darts','iNdoor'), ('Swimming','Outdoor'), ('Trampoline','Indoor'))\n",
    "Sample Output\n",
    "Sample Indoor: ['Chess', 'Carrom', 'Badminton', 'Darts', 'Trampoline']\n",
    "a) solve using for loop.\n",
    "b) solve using list comprehension\n",
    "c) solve using lambda, map and filter"
   ]
  },
  {
   "cell_type": "code",
   "execution_count": 69,
   "id": "c374124a-7023-48c3-bea9-da71647edb18",
   "metadata": {},
   "outputs": [
    {
     "name": "stdout",
     "output_type": "stream",
     "text": [
      "Ind_games ['Chess', 'Carrom', 'Badminton', 'Darts', 'Trampoline']\n",
      "Out_games ['Cricket', 'Football', 'Swimming']\n"
     ]
    }
   ],
   "source": [
    "# a\n",
    "Ind_games = []\n",
    "Out_games = []\n",
    "sports = (('Chess','indoor'), ('Cricket', 'Outdoor'), ('Carrom','indoOr'), ('Badminton','Indoor'), ('Football','Outdoor'), ('Darts','iNdoor'), ('Swimming','Outdoor'), ('Trampoline','Indoor'))\n",
    "for i in sports:\n",
    "    if i[1].lower() == \"indoor\":\n",
    "        Ind_games.append(i[0])\n",
    "    else:\n",
    "        Out_games.append(i[0])\n",
    "print('Ind_games',Ind_games)\n",
    "print('Out_games',Out_games)"
   ]
  },
  {
   "cell_type": "code",
   "execution_count": 75,
   "id": "7dde177d-8b79-48ea-97a6-4f947be9cfec",
   "metadata": {},
   "outputs": [
    {
     "name": "stdout",
     "output_type": "stream",
     "text": [
      "['Chess', 'Carrom', 'Badminton', 'Darts', 'Trampoline']\n",
      "['Cricket', 'Football', 'Swimming']\n"
     ]
    }
   ],
   "source": [
    "# b\n",
    "Ind_games = [i[0] for i in sports if i[1].lower() == \"indoor\"]\n",
    "Out_games = [i[0] for i in sports if i[1].lower() == \"outdoor\"]\n",
    "print(Ind_games)\n",
    "print(Out_games)"
   ]
  },
  {
   "cell_type": "markdown",
   "id": "da252414-93c5-41e9-86b5-0e3028c08c8e",
   "metadata": {},
   "source": [
    "Q24) Create a dictionary containing 4 lambda functions using x as lambda parameter\n",
    "Pass the value (input from the user) to the functions in the dictionary respectively. \n",
    "Then add the outputs of each function and print it"
   ]
  },
  {
   "cell_type": "code",
   "execution_count": 291,
   "id": "3f18624e-7577-41ad-8616-6b7353027418",
   "metadata": {},
   "outputs": [],
   "source": [
    "d1 = {'e1':lambda x : (2*x)-3, 'e2':lambda x : (x**2)+5,'e3':lambda x : (x**0.5)-5,'e4':lambda x : (x**3)+1}"
   ]
  },
  {
   "cell_type": "code",
   "execution_count": 293,
   "id": "3e3fb724-60a2-4239-b1ba-d8c62bdeb8e6",
   "metadata": {},
   "outputs": [
    {
     "name": "stdin",
     "output_type": "stream",
     "text": [
      "enter x value:  9\n"
     ]
    },
    {
     "name": "stdout",
     "output_type": "stream",
     "text": [
      "829.0\n"
     ]
    }
   ],
   "source": [
    "x = int(input('enter x value: '))\n",
    "result = 0\n",
    "for i in d1:\n",
    "    result+= d1[i](x)\n",
    "print(result)\n"
   ]
  },
  {
   "cell_type": "markdown",
   "id": "1335efaf-6f42-4f29-9371-69cdf1d8ffe4",
   "metadata": {},
   "source": [
    "Q25) A dictionary of fruits and their price is given for city A. Find fruit's price for city B. \n",
    "(Use map and lambda functions). Result shoul dbe rounded up to 2 decimal places\n",
    "Formula : price_B = (price_A * Criteria_B) / Criteia_A\n",
    "fruits_A = {'Mango':85, 'Watermelon':50, 'Guava':45,'Grapes':70}\n",
    "Criteria_A: 4.7\n",
    "Criteria_B: 11.34\n",
    "Output:\n",
    "Fruits_B: {'Mango': 205.08, 'Watermelon': 120.63, 'Guava': 108.57, 'Grapes': 168.89}"
   ]
  },
  {
   "cell_type": "code",
   "execution_count": 299,
   "id": "b210f9ad-a9a7-43a7-8906-33ffbd409c90",
   "metadata": {},
   "outputs": [
    {
     "name": "stdout",
     "output_type": "stream",
     "text": [
      "{'Mango': 205.09, 'Watermelon': 120.64, 'Guava': 108.57, 'Grapes': 168.89}\n"
     ]
    }
   ],
   "source": [
    "fruits_A = {'Mango':85, 'Watermelon':50, 'Guava':45,'Grapes':70}\n",
    "fruits_B = {}\n",
    "for k,v in fruits_A.items():\n",
    "    fruits_B[k] = round((v*11.34)/4.7,2)\n",
    "print(fruits_B)\n",
    "    "
   ]
  },
  {
   "cell_type": "code",
   "execution_count": 301,
   "id": "39642144-64b5-4e9a-8550-1a63b4936d4d",
   "metadata": {},
   "outputs": [
    {
     "data": {
      "text/plain": [
       "{'Mango': 205.09, 'Watermelon': 120.64, 'Guava': 108.57, 'Grapes': 168.89}"
      ]
     },
     "execution_count": 301,
     "metadata": {},
     "output_type": "execute_result"
    }
   ],
   "source": [
    "fruits_B = {k:round((v*11.34)/4.7,2) for k,v in fruits_A.items()}\n",
    "fruits_B"
   ]
  },
  {
   "cell_type": "code",
   "execution_count": 304,
   "id": "2904c77a-3d83-49a3-8150-55a7caf1e439",
   "metadata": {},
   "outputs": [
    {
     "data": {
      "text/plain": [
       "{'Mango': 205.09, 'Watermelon': 120.64, 'Guava': 108.57, 'Grapes': 168.89}"
      ]
     },
     "execution_count": 304,
     "metadata": {},
     "output_type": "execute_result"
    }
   ],
   "source": [
    "fruits_B = dict(map(lambda x : (x[0],round((x[1]*11.34/4.7),2)),fruits_A.items()))\n",
    "fruits_B"
   ]
  },
  {
   "cell_type": "markdown",
   "id": "9aa7f754-5b56-4260-ae00-b8878648a1ae",
   "metadata": {},
   "source": [
    "Q26) Segregate the comments based on metro and non-metro cities\n",
    "\n",
    "Metro_city = ['Delhi','Kolkata', 'Mumbai', 'Bangalore']\n",
    "Non_metro_city = ['Ayodhya','Shimla']\n",
    "\n",
    "comments = ['Covid hits again in Delhi', 'Covid XE variant has its roots in Mumbai', \n",
    "'Water shortage in Shimla has not been resolved completely', \n",
    "'Authors have a community in Kolkata', 'AI based jobs are flooded in Bangalore', \n",
    "'Diwali in Ayodhya went into Guinness records for lighting most diyas']\n",
    "\n",
    "Output\n",
    "['Metro_city','Metro_city','Non_metro_city','Metro_city','Metro_city','Non_metro_city']"
   ]
  },
  {
   "cell_type": "code",
   "execution_count": 313,
   "id": "d02238d5-953c-4eb6-9efe-360bbe6b2d64",
   "metadata": {},
   "outputs": [
    {
     "name": "stdout",
     "output_type": "stream",
     "text": [
      "['Metro_City', 'Metro_City', 'Non_Metro City', 'Metro_City', 'Metro_City', 'Non_Metro City']\n"
     ]
    }
   ],
   "source": [
    "Metro_city = ['Delhi','Kolkata', 'Mumbai', 'Bangalore']\n",
    "Non_metro_city = ['Ayodhya','Shimla']\n",
    "output = []\n",
    "comments = ['Covid hits again in Delhi', 'Covid XE variant has its roots in Mumbai', \n",
    "'Water shortage in Shimla has not been resolved completely', \n",
    "'Authors have a community in Kolkata', 'AI based jobs are flooded in Bangalore', \n",
    "'Diwali in Ayodhya went into Guinness records for lighting most diyas']\n",
    "\n",
    "for i in comments:\n",
    "    if any (city in i for city in Metro_city):\n",
    "        output.append('Metro_City')\n",
    "    else:\n",
    "        output.append('Non_Metro City')\n",
    "print(output)\n",
    "\n",
    "## any(condition for item in iterable)"
   ]
  },
  {
   "cell_type": "markdown",
   "id": "2fe76b6f-eed5-40b3-822f-428b5ea40075",
   "metadata": {},
   "source": [
    "Q27) Write a function to print k prime numbers smaller than a given number n where k and n are integers where k < n\n",
    "Function call\n",
    "kprime_less_than_n(7,78)\n",
    "Sample Output\n",
    "[47, 53, 59, 61, 67, 71, 73]"
   ]
  },
  {
   "cell_type": "code",
   "execution_count": null,
   "id": "07ba951a-890e-44be-b5f6-c08577bd1c0b",
   "metadata": {},
   "outputs": [],
   "source": [
    "   "
   ]
  },
  {
   "cell_type": "markdown",
   "id": "0ab87633-a6d0-4bb0-896b-78830cea2bee",
   "metadata": {},
   "source": [
    "Q28) Accept a list of words as user input. Create a dictionary containing word length as its key \n",
    "and word(printed from right to left) if its length is even otherwise word(printed from left to right) as its value using\n",
    "a) Dict comprehension\n",
    "b) Without dict comprehension\n",
    "Sort the dict in descending order of its keys."
   ]
  },
  {
   "cell_type": "code",
   "execution_count": 326,
   "id": "053a6407-855f-44af-8bcf-b980651d583b",
   "metadata": {},
   "outputs": [
    {
     "name": "stdin",
     "output_type": "stream",
     "text": [
      " nidhi lovely goa\n"
     ]
    },
    {
     "name": "stdout",
     "output_type": "stream",
     "text": [
      "[(6, 'ylevol'), (5, 'nidhi'), (3, 'goa')]\n"
     ]
    }
   ],
   "source": [
    "words = input().split()\n",
    "d = {len(i):i[::-1] if len(i)%2==0 else i for i in words }\n",
    "d = sorted(d.items(), key = lambda x : x[0],reverse=True)\n",
    "print(d)"
   ]
  },
  {
   "cell_type": "markdown",
   "id": "e931d827-f466-4a3c-9187-4fd5e8c2e3f8",
   "metadata": {},
   "source": [
    "Q29) Write a recursive function to generate n terms for fibonacci series\n",
    "Function call\n",
    "fib(10)\n",
    "Sample Output\n",
    "[0,1,1,2,3,5,8,13,21,34]"
   ]
  },
  {
   "cell_type": "code",
   "execution_count": null,
   "id": "37d6cb54-455a-440c-89fa-cd8ba17a4e38",
   "metadata": {},
   "outputs": [],
   "source": []
  },
  {
   "cell_type": "markdown",
   "id": "823436ae-5042-4829-86f7-8b5435468a5c",
   "metadata": {},
   "source": [
    "Q30 ) Accept x and y as initial source coordinates of a player as user input. \n",
    "Accept a string containing player's movement(movement can be L(left),R(right),T(Top) or B(Bottom) one step at a time).\n",
    "The player moves according to movement in the given order and reaches the destination. \n",
    "Display the final coordinates of the player. Find the distance between source and destination\n",
    "\n",
    "Sample Input\n",
    "5 9\n",
    "TTRRRTBL\n",
    "Sample Output\n",
    "Final coordinates: 7 11\n",
    "Distance: 2.83"
   ]
  },
  {
   "cell_type": "code",
   "execution_count": null,
   "id": "78a49fde-caaa-4f6b-b6af-43ea04af4584",
   "metadata": {},
   "outputs": [],
   "source": [
    "x = 5\n",
    "y = 9\n",
    "move = \"left\"\n"
   ]
  },
  {
   "cell_type": "code",
   "execution_count": null,
   "id": "6e66bd4f-ea10-4caf-9a5f-94c660b4701e",
   "metadata": {},
   "outputs": [],
   "source": []
  },
  {
   "cell_type": "code",
   "execution_count": null,
   "id": "630c0124-c41d-4cbe-8d87-ec7595f9c1d1",
   "metadata": {},
   "outputs": [],
   "source": []
  },
  {
   "cell_type": "code",
   "execution_count": null,
   "id": "51054dad-82eb-48b4-b506-4762b5cd6951",
   "metadata": {},
   "outputs": [],
   "source": []
  },
  {
   "cell_type": "markdown",
   "id": "d5f5b08e-42cb-4087-89c7-a2d092cdbfd1",
   "metadata": {},
   "source": [
    "Q31) For the list num, square each number and return output in a tuple/\n",
    "num = [5,8,3,12,7,10]"
   ]
  },
  {
   "cell_type": "code",
   "execution_count": 329,
   "id": "d17e6761-e024-4962-96aa-464960051e95",
   "metadata": {},
   "outputs": [
    {
     "name": "stdout",
     "output_type": "stream",
     "text": [
      "(25, 64, 9, 144, 49, 100)\n"
     ]
    }
   ],
   "source": [
    "num = [5,8,3,12,7,10]\n",
    "output = tuple(i**2 for i in num)\n",
    "print(output)"
   ]
  },
  {
   "cell_type": "code",
   "execution_count": 330,
   "id": "4298ef64-c246-4f62-84f2-1c6576cc8acf",
   "metadata": {},
   "outputs": [
    {
     "data": {
      "text/plain": [
       "(25, 64, 9, 144, 49, 100)"
      ]
     },
     "execution_count": 330,
     "metadata": {},
     "output_type": "execute_result"
    }
   ],
   "source": [
    "output = tuple(map(lambda x : x**2, num))\n",
    "output"
   ]
  },
  {
   "cell_type": "code",
   "execution_count": null,
   "id": "9d05b950-a982-4f47-9620-54de5ffe2506",
   "metadata": {},
   "outputs": [],
   "source": [
    "Q34) Write a function that takes a list of strings and returns a list of their lengths using\n",
    "s = ['apple','guava','dragon fruit','mango']"
   ]
  },
  {
   "cell_type": "code",
   "execution_count": 332,
   "id": "1d46a4f1-8b6a-4b09-aefb-950ed8dc6cca",
   "metadata": {},
   "outputs": [],
   "source": [
    "s = ['apple','guava','dragon fruit','mango']\n",
    "def print_len(s):\n",
    "    len_st = []\n",
    "    for i in s:\n",
    "        len_st.append(len(i))\n",
    "    return len_st\n",
    "        "
   ]
  },
  {
   "cell_type": "code",
   "execution_count": 333,
   "id": "4d053f06-1fc9-466a-8a59-33beafc2b652",
   "metadata": {},
   "outputs": [
    {
     "data": {
      "text/plain": [
       "[5, 5, 12, 5]"
      ]
     },
     "execution_count": 333,
     "metadata": {},
     "output_type": "execute_result"
    }
   ],
   "source": [
    "print_len(s)"
   ]
  },
  {
   "cell_type": "code",
   "execution_count": 334,
   "id": "628dcbc2-1638-463e-bab0-7928beb894c9",
   "metadata": {},
   "outputs": [
    {
     "data": {
      "text/plain": [
       "[5, 5, 12, 5]"
      ]
     },
     "execution_count": 334,
     "metadata": {},
     "output_type": "execute_result"
    }
   ],
   "source": [
    "s1 = [len(i) for i in s]\n",
    "s1"
   ]
  },
  {
   "cell_type": "code",
   "execution_count": 338,
   "id": "5229060e-a799-4af9-b946-5a6027cabce2",
   "metadata": {},
   "outputs": [
    {
     "data": {
      "text/plain": [
       "[5, 5, 12, 5]"
      ]
     },
     "execution_count": 338,
     "metadata": {},
     "output_type": "execute_result"
    }
   ],
   "source": [
    "s2 = list(map(lambda x: len(x),s))\n",
    "s2"
   ]
  },
  {
   "cell_type": "markdown",
   "id": "705ff891-1aae-47e9-b7c8-25a0dfab911f",
   "metadata": {},
   "source": [
    "Q35) Filter all the words that contain the character 'a' from the below list.\n",
    "words = ['Meta','Instagram','Snapchat','Welcome','Google','Youtube','Python']"
   ]
  },
  {
   "cell_type": "code",
   "execution_count": 340,
   "id": "cd2979fc-7340-4769-b9f8-082e97228210",
   "metadata": {},
   "outputs": [
    {
     "data": {
      "text/plain": [
       "['Meta', 'Instagram', 'Snapchat']"
      ]
     },
     "execution_count": 340,
     "metadata": {},
     "output_type": "execute_result"
    }
   ],
   "source": [
    "words = ['Meta','Instagram','Snapchat','Welcome','Google','Youtube','Python']\n",
    "words_a = list(filter(lambda x : \"a\" in x,words))\n",
    "words_a"
   ]
  },
  {
   "cell_type": "markdown",
   "id": "70011095-dbe0-4da5-85d8-77cba640fc3a",
   "metadata": {},
   "source": [
    "Q36) Extract all words that ends with e and then convert their last 2 digits in upper case \n",
    "words = ['Hello','Welcome','Game','Toy','Kite','Yellow','Orange']"
   ]
  },
  {
   "cell_type": "code",
   "execution_count": 350,
   "id": "ed5c616f-3d98-4aef-b04b-9c3fef6cdb07",
   "metadata": {},
   "outputs": [
    {
     "name": "stdout",
     "output_type": "stream",
     "text": [
      "['WelcoME', 'GaME', 'KiTE', 'OranGE']\n"
     ]
    }
   ],
   "source": [
    "words = ['Hello','Welcome','Game','Toy','Kite','Yellow','Orange']\n",
    "word_e = []\n",
    "for i in words:\n",
    "    if i.endswith(\"e\"):\n",
    "        word_e.append(i[:-2]+i[-2:].upper())\n",
    "print(word_e)"
   ]
  },
  {
   "cell_type": "markdown",
   "id": "ad2ec471-9957-4796-96c1-191e214b3459",
   "metadata": {},
   "source": [
    "Q37) Find sum of numbers from 5 to 10 using for loop."
   ]
  },
  {
   "cell_type": "code",
   "execution_count": 80,
   "id": "2a85567d-d8de-4541-bdfc-c72c539abd4c",
   "metadata": {},
   "outputs": [
    {
     "name": "stdout",
     "output_type": "stream",
     "text": [
      "45\n"
     ]
    }
   ],
   "source": [
    "sum_val = 0\n",
    "for i in range(5,11):\n",
    "    sum_val+=i\n",
    "print(sum_val)"
   ]
  },
  {
   "cell_type": "code",
   "execution_count": null,
   "id": "4c783255-0724-475f-ae8e-8b8f2f43a841",
   "metadata": {},
   "outputs": [],
   "source": [
    "Q38) Find sum of all odd numbers from 40 to 60 using for loop"
   ]
  },
  {
   "cell_type": "code",
   "execution_count": 81,
   "id": "6d9b8262-e2c1-4fd2-aa44-2e9dab4d6c3a",
   "metadata": {},
   "outputs": [
    {
     "name": "stdout",
     "output_type": "stream",
     "text": [
      "500\n"
     ]
    }
   ],
   "source": [
    "sumv = 0\n",
    "for i in range(40,61):\n",
    "    if i%2!=0:\n",
    "        sumv+=i\n",
    "print(sumv)"
   ]
  },
  {
   "cell_type": "markdown",
   "id": "61313cb2-fa66-42a8-a69d-e65f59f5c99d",
   "metadata": {},
   "source": [
    "Q39) Find sum of even num & sum of numbers between 20 to 40"
   ]
  },
  {
   "cell_type": "code",
   "execution_count": 82,
   "id": "0ad3bbf3-41fd-4531-ad71-8d6e2c7e7052",
   "metadata": {},
   "outputs": [
    {
     "name": "stdout",
     "output_type": "stream",
     "text": [
      "es 330\n",
      "os 300\n"
     ]
    }
   ],
   "source": [
    "es, os = 0,0\n",
    "for i in range(20,41):\n",
    "    if i%2==0:\n",
    "        es+=i\n",
    "    else:\n",
    "        os+=i\n",
    "print('es',es)\n",
    "print('os',os)"
   ]
  },
  {
   "cell_type": "markdown",
   "id": "f6b70f5b-65b3-4553-b271-baba5482957f",
   "metadata": {},
   "source": [
    "Q40) Accept a string as user input. Using for loop print string from\n",
    "1) left to right using neg indexes\n",
    "2) right to left using pos indexes\n",
    "3) right to left using neg indexes"
   ]
  },
  {
   "cell_type": "code",
   "execution_count": 86,
   "id": "e41208d8-f17e-4e90-8084-5810ce978d7d",
   "metadata": {},
   "outputs": [
    {
     "name": "stdout",
     "output_type": "stream",
     "text": [
      "-6 K\n",
      "-5 o\n",
      "-4 n\n",
      "-3 i\n",
      "-2 k\n",
      "-1 a\n"
     ]
    }
   ],
   "source": [
    "st = 'Konika'\n",
    "#1\n",
    "for i in range(-len(st),0,1):\n",
    "    print(i,st[i])"
   ]
  },
  {
   "cell_type": "code",
   "execution_count": 90,
   "id": "bb55a71b-6854-449b-95f3-5fcd42994e0f",
   "metadata": {},
   "outputs": [
    {
     "name": "stdout",
     "output_type": "stream",
     "text": [
      "5 a\n",
      "4 k\n",
      "3 i\n",
      "2 n\n",
      "1 o\n",
      "0 K\n"
     ]
    }
   ],
   "source": [
    "#2\n",
    "for i in range(len(st)-1,-1,-1):\n",
    "    print(i,st[i])"
   ]
  },
  {
   "cell_type": "code",
   "execution_count": 95,
   "id": "97f5d500-fb0e-4d2c-a24e-8ccfb6f78d42",
   "metadata": {},
   "outputs": [
    {
     "name": "stdout",
     "output_type": "stream",
     "text": [
      "-1 a\n",
      "-2 k\n",
      "-3 i\n",
      "-4 n\n",
      "-5 o\n",
      "-6 K\n"
     ]
    }
   ],
   "source": [
    "#3\n",
    "for i in range(-1,-len(st)-1,-1):\n",
    "    print(i,st[i])"
   ]
  },
  {
   "cell_type": "markdown",
   "id": "37b8a35f-78a0-493f-a55b-68c1900685c2",
   "metadata": {},
   "source": [
    "Q41)  Find sum of num div by 3 from 35 to 55 using while loop"
   ]
  },
  {
   "cell_type": "code",
   "execution_count": 100,
   "id": "a978726d-e173-4014-b300-a33dec6d22ba",
   "metadata": {},
   "outputs": [
    {
     "name": "stdout",
     "output_type": "stream",
     "text": [
      "315\n"
     ]
    }
   ],
   "source": [
    "n = 35\n",
    "sumv = 0\n",
    "while n < 56:\n",
    "    if n%3 ==0:\n",
    "        sumv+=n\n",
    "    n+=1\n",
    "print(sumv)"
   ]
  },
  {
   "cell_type": "markdown",
   "id": "16383497-ff73-4a71-a50c-7a29cb8fb61e",
   "metadata": {},
   "source": [
    "Q42) 1) Write a program that takes an integer input and classifies it as:\n",
    "a) \"Negative even\" if it's negative and even\n",
    "b) \"Negative odd\" if it's negative and odd\n",
    "c) \"Zero\" if it's zero\n",
    "d) \"Positive even\" if it's positive and even\n",
    "e) \"Positive odd\" if it's positive and odd"
   ]
  },
  {
   "cell_type": "code",
   "execution_count": 109,
   "id": "246a1f24-2484-4629-8ffc-b8bd90ca4f24",
   "metadata": {},
   "outputs": [
    {
     "name": "stdin",
     "output_type": "stream",
     "text": [
      "enter nu:  10\n"
     ]
    },
    {
     "name": "stdout",
     "output_type": "stream",
     "text": [
      "pos even\n"
     ]
    }
   ],
   "source": [
    "n = int(input(\"enter nu: \"))\n",
    "if n == 0 :\n",
    "    print(\"zero\")\n",
    "elif n%2 == 0:\n",
    "    if n <0:\n",
    "        print(\"neg even\")\n",
    "    if n>0 :\n",
    "        print(\"pos even\")\n",
    "else:\n",
    "    if n <0:\n",
    "        print(\"neg odd\")\n",
    "    if n>0 :\n",
    "        print(\"pos odd\")\n"
   ]
  },
  {
   "cell_type": "markdown",
   "id": "24f5d881-3c43-4f53-9b5a-c442ad570314",
   "metadata": {},
   "source": [
    "Q43) Accept a score from user. Based on the following conditions, generate the remarks\n",
    "a) if score is between 0 to 40 then Remarks = Poor\n",
    "b) if score is between 41 to 60 then Remarks = Average\n",
    "c) if score is between 61 to 80 then Remarks = Good\n",
    "d) if score is between 81 to 90 then Remarks = Excellent\n",
    "e) if score is between 91 to 100 then Remarks = Outstanding\n",
    "f) otherwise Remarks = Invalid Score"
   ]
  },
  {
   "cell_type": "code",
   "execution_count": 114,
   "id": "9fc4d924-cc6e-4d66-8a55-5b136b1e0617",
   "metadata": {},
   "outputs": [
    {
     "name": "stdout",
     "output_type": "stream",
     "text": [
      "Outstanding\n"
     ]
    }
   ],
   "source": [
    "score = 100\n",
    "if 0 <= score <=40:\n",
    "    print(\"Poor\")\n",
    "elif 41 <= score <=60:\n",
    "    print(\"Average\")\n",
    "elif 61 <= score <=80:\n",
    "    print(\"Good\")\n",
    "elif 81 <= score <=90:\n",
    "    print(\"Excellent\")\n",
    "elif 91 <= score <=100:\n",
    "    print(\"Outstanding\")\n",
    "else:\n",
    "    print(\"invalid score\")"
   ]
  },
  {
   "cell_type": "markdown",
   "id": "4b742ab6-e320-4396-895e-b671adf61417",
   "metadata": {},
   "source": [
    "Q44) Accept a string from the user and return the total number of alphabets,digits, space and special characters in that string."
   ]
  },
  {
   "cell_type": "code",
   "execution_count": 117,
   "id": "b87acc2d-3ceb-42ad-a1c5-570e13653864",
   "metadata": {},
   "outputs": [
    {
     "name": "stdout",
     "output_type": "stream",
     "text": [
      "al 6\n",
      "digit 4\n",
      "sc 5\n"
     ]
    }
   ],
   "source": [
    "st = 'k@onika0099--  '\n",
    "al = 0\n",
    "digit = 0\n",
    "sc = 0\n",
    "for i in st:\n",
    "    if i.isdigit():\n",
    "        digit +=1\n",
    "    elif i.isalpha():\n",
    "        al +=1\n",
    "    else:\n",
    "        sc+=1\n",
    "print('al',al)\n",
    "print('digit',digit)\n",
    "print('sc',sc)"
   ]
  },
  {
   "cell_type": "markdown",
   "id": "87adf576-c98f-413e-9322-495888f0be53",
   "metadata": {},
   "source": [
    "Q45)  Generate a list containing all odd numbers between 10 and 25 (both inclusive)"
   ]
  },
  {
   "cell_type": "code",
   "execution_count": 119,
   "id": "0621d4cd-1d39-441d-bdce-10218e9c40f4",
   "metadata": {},
   "outputs": [
    {
     "name": "stdout",
     "output_type": "stream",
     "text": [
      "[11, 13, 15, 17, 19, 21, 23, 25]\n"
     ]
    }
   ],
   "source": [
    "odd_el = []\n",
    "for i in range(10,26):\n",
    "    if i %2 !=0:\n",
    "        odd_el.append(i)\n",
    "print(odd_el)"
   ]
  },
  {
   "cell_type": "markdown",
   "id": "0914df67-4526-47e0-a50c-50b0ebb4cb64",
   "metadata": {},
   "source": [
    "Q46)  Remove all duplicates from list such that for each duplicate, single occurence remains"
   ]
  },
  {
   "cell_type": "code",
   "execution_count": 122,
   "id": "5846c29f-2444-4f7b-9c7d-b314d7fff23b",
   "metadata": {},
   "outputs": [
    {
     "name": "stdout",
     "output_type": "stream",
     "text": [
      "[40, 10, 50, 20, 30]\n"
     ]
    }
   ],
   "source": [
    "# a\n",
    "list1 = [10,10,20,20,30,30,40,40,50,50]\n",
    "list2 = list(set(list1))\n",
    "print(list2)"
   ]
  },
  {
   "cell_type": "code",
   "execution_count": 123,
   "id": "75c8e5c9-362c-48d9-916a-69304a420d8f",
   "metadata": {},
   "outputs": [
    {
     "name": "stdout",
     "output_type": "stream",
     "text": [
      "[10, 20, 30, 40, 50]\n"
     ]
    }
   ],
   "source": [
    "# b \n",
    "list1 = [10,10,20,20,30,30,40,40,50,50]\n",
    "list2 = []\n",
    "for i in list1:\n",
    "    if i not in list2:\n",
    "        list2.append(i)\n",
    "print(list2)"
   ]
  },
  {
   "cell_type": "markdown",
   "id": "bff7f27c-da22-47a6-bd95-e232306afbfe",
   "metadata": {},
   "source": [
    "Q47)  Seperate even and odd numbers from the below list. Store result in separate list.\n",
    "num = [56,47,32,78,49,27,21,35,84]"
   ]
  },
  {
   "cell_type": "code",
   "execution_count": 126,
   "id": "9da956f1-f6b4-478b-b256-4fc22805d4e5",
   "metadata": {},
   "outputs": [
    {
     "name": "stdout",
     "output_type": "stream",
     "text": [
      "odd_list [47, 49, 27, 21, 35]\n",
      "even_list [56, 32, 78, 84]\n"
     ]
    }
   ],
   "source": [
    "num = [56,47,32,78,49,27,21,35,84]\n",
    "odd_list = [i for i in num if i%2!=0]\n",
    "even_list = [i for i in num if i%2==0]\n",
    "print(\"odd_list\",odd_list)\n",
    "print(\"even_list\",even_list)"
   ]
  },
  {
   "cell_type": "markdown",
   "id": "03d57bf9-5d46-4bf6-a008-353704357eab",
   "metadata": {},
   "source": [
    "Q48)  Consider a list of Sports from user(in lower case) and print even index sports in upper case and odd index sports in lower case."
   ]
  },
  {
   "cell_type": "code",
   "execution_count": 128,
   "id": "fb5a8bf0-0b72-4167-be4d-5e200121446c",
   "metadata": {},
   "outputs": [
    {
     "name": "stdin",
     "output_type": "stream",
     "text": [
      " Cricket Hockey Football Basketball Tennis VolleyBall\n"
     ]
    },
    {
     "name": "stdout",
     "output_type": "stream",
     "text": [
      "CRICKET hockey FOOTBALL basketball TENNIS volleyball "
     ]
    }
   ],
   "source": [
    "sports = input().split()\n",
    "for i in range(len(sports)):\n",
    "    if i%2==0:\n",
    "        print(sports[i].upper(),end = ' ')\n",
    "    else:\n",
    "        print(sports[i].lower(),end = ' ')\n",
    "        "
   ]
  },
  {
   "cell_type": "markdown",
   "id": "99514479-d94b-4f9f-947e-d1a91aa40e11",
   "metadata": {},
   "source": [
    "Q49)  For the given list, find all the even elements present at the odd index and all odd elements present at even index. Store result in a separate list. Sort even elements in desc order and odd elements in asc order\n",
    "n = [24,57,78,25,83,95,24,80,21,20,24,27]"
   ]
  },
  {
   "cell_type": "code",
   "execution_count": 132,
   "id": "074dc8a5-e9f0-446c-8dca-83304af78d60",
   "metadata": {},
   "outputs": [
    {
     "name": "stdout",
     "output_type": "stream",
     "text": [
      "even_el [80, 20]\n",
      "odd_el [21, 83]\n"
     ]
    }
   ],
   "source": [
    "n = [24,57,78,25,83,95,24,80,21,20,24,27]\n",
    "even_el = []\n",
    "odd_el = []\n",
    "for i in range(len(n)):\n",
    "    if i%2!=0: # odd index\n",
    "        if n[i]%2==0: # even element\n",
    "            even_el.append(n[i])\n",
    "    else: #even index \n",
    "        if n[i]%2!=0: # odd element\n",
    "            odd_el.append(n[i])\n",
    "even_el.sort(reverse = True)\n",
    "odd_el.sort()\n",
    "print('even_el',even_el)\n",
    "print('odd_el',odd_el)"
   ]
  },
  {
   "cell_type": "markdown",
   "id": "4720528e-6460-4d48-b3de-91bc6b722348",
   "metadata": {},
   "source": [
    "Q50) Find all pair of 2 numbers whose sum when add becomes 20 from the given list\n",
    "n = [8,2,11,10,9,12,6,21,5,4]"
   ]
  },
  {
   "cell_type": "code",
   "execution_count": 136,
   "id": "e0ef16a0-ead4-4794-978d-25718bef95df",
   "metadata": {},
   "outputs": [
    {
     "name": "stdout",
     "output_type": "stream",
     "text": [
      "[(8, 12), (11, 9), (9, 11), (12, 8)]\n"
     ]
    }
   ],
   "source": [
    "n = [8,2,11,10,9,12,6,21,5,4]\n",
    "sum20 = []\n",
    "for i in n:\n",
    "    for k in n:\n",
    "        if i+k == 20 and i!=k:\n",
    "            sum20.append((i,k))\n",
    "print(sum20)\n",
    "        "
   ]
  },
  {
   "cell_type": "markdown",
   "id": "ee51679f-44bb-4151-b221-a77754d5fb3c",
   "metadata": {},
   "source": [
    "Q51) # Return the closing balance\n",
    "# 1) total withdrawl should not exceed available  for that transaction\n",
    "\n",
    "# Sample Input\n",
    "# 7000         # initial_bal = bank bal\n",
    "# 5            # n = number of transactions\n",
    "# D 2000       # D 2000 => deposit of 2000\n",
    "# w 3500       # W 3500 -> withdrawl of 3500\n",
    "# d 4000\n",
    "# w 1500\n",
    "# W 2500\n",
    "\n",
    "# Sample Output\n",
    "# 5500"
   ]
  },
  {
   "cell_type": "code",
   "execution_count": null,
   "id": "71aa5611-cc6a-4fc9-804f-9d6c907f6f7e",
   "metadata": {},
   "outputs": [],
   "source": []
  },
  {
   "cell_type": "markdown",
   "id": "6e967b00-b59e-46cf-8408-16d41a84c4fc",
   "metadata": {},
   "source": [
    "bal = int(input('Enter bank balance: '))  # 7000\n",
    "n = int(input('Num of Trans: '))  # 5\n",
    "for i in range(n):  # i = 0,1,2,3,4\n",
    "    tran = input().split()  # D 3500  => list\n",
    "    ttype,tamt = tran[0].lower(),int(tran[1])\n",
    "    if ttype == 'd':\n",
    "        bal = bal + tamt\n",
    "        print('Avail Balance',bal)\n",
    "    elif  ttype == \"w\" and bal > tamt :\n",
    "        bal = bal - tamt\n",
    "        print('Avail Balance',bal)\n",
    "    else:\n",
    "        print('Invalid Tran')\n",
    "print('Final Balance',bal)"
   ]
  },
  {
   "cell_type": "markdown",
   "id": "37080ad8-b183-4d08-a710-8d19c9db600e",
   "metadata": {},
   "source": [
    "Q52) provide all the palindorme words\n",
    "words = ['radar','finite','school','madam','fortunate','racecar']"
   ]
  },
  {
   "cell_type": "code",
   "execution_count": 188,
   "id": "8228df64-2dd5-4884-9d23-1541242827d0",
   "metadata": {},
   "outputs": [],
   "source": [
    "words = ['radar','finite','school','madam','fortunate','racecar']\n",
    "def pal_check(x):\n",
    "    pal = []\n",
    "    for i in x:\n",
    "        if i == i[::-1]:\n",
    "            pal.append(i)\n",
    "    print(pal)"
   ]
  },
  {
   "cell_type": "code",
   "execution_count": 189,
   "id": "76093735-d566-4fed-aeba-224f09902c8d",
   "metadata": {},
   "outputs": [
    {
     "name": "stdout",
     "output_type": "stream",
     "text": [
      "['radar', 'madam', 'racecar']\n"
     ]
    }
   ],
   "source": [
    "pal_check(words)"
   ]
  },
  {
   "cell_type": "markdown",
   "id": "fbd2a155-8108-4068-91ae-b1b3ba2e4d30",
   "metadata": {},
   "source": [
    "Q53)  find factorial of num n"
   ]
  },
  {
   "cell_type": "code",
   "execution_count": 192,
   "id": "5b42395e-142d-4920-b4f4-c2fa972da1b9",
   "metadata": {},
   "outputs": [
    {
     "name": "stdout",
     "output_type": "stream",
     "text": [
      "120\n"
     ]
    }
   ],
   "source": [
    "n  = 5\n",
    "f = 1\n",
    "for i in range(1,n+1):\n",
    "    f*=i\n",
    "print(f)"
   ]
  },
  {
   "cell_type": "markdown",
   "id": "ff6d6fd5-57ff-463f-a5f3-c2219b2424aa",
   "metadata": {},
   "source": [
    "Q54) Find sum upto n numbers (till 1) using recursion"
   ]
  },
  {
   "cell_type": "code",
   "execution_count": 193,
   "id": "98fbc442-f30a-4fc9-808e-2df1d1c75acb",
   "metadata": {},
   "outputs": [],
   "source": [
    "def sumuptoN(n):\n",
    "    if n==1:\n",
    "        return 1\n",
    "    else:\n",
    "        return n+sumuptoN(n-1)"
   ]
  },
  {
   "cell_type": "code",
   "execution_count": 194,
   "id": "8745ee44-a3f7-4a33-ae72-1808d58a0aef",
   "metadata": {},
   "outputs": [
    {
     "data": {
      "text/plain": [
       "15"
      ]
     },
     "execution_count": 194,
     "metadata": {},
     "output_type": "execute_result"
    }
   ],
   "source": [
    "sumuptoN(5)"
   ]
  },
  {
   "cell_type": "markdown",
   "id": "78b65c76-8174-4541-8cdf-8368a1da05fd",
   "metadata": {},
   "source": [
    "Q55)  Find factorial of n numbers using recurssion"
   ]
  },
  {
   "cell_type": "code",
   "execution_count": 195,
   "id": "ef17a351-6f38-4a89-a1f3-689b8b3bb23d",
   "metadata": {},
   "outputs": [],
   "source": [
    "def fact(n):\n",
    "    if n==1:\n",
    "        return 1\n",
    "    else:\n",
    "        return n*fact(n-1)"
   ]
  },
  {
   "cell_type": "code",
   "execution_count": 196,
   "id": "6e06ca4f-a613-4c3d-9653-8698e49b0fee",
   "metadata": {},
   "outputs": [
    {
     "data": {
      "text/plain": [
       "120"
      ]
     },
     "execution_count": 196,
     "metadata": {},
     "output_type": "execute_result"
    }
   ],
   "source": [
    "fact(5)"
   ]
  },
  {
   "cell_type": "markdown",
   "id": "1088e993-1a67-4cf7-a16e-0ace22424eb6",
   "metadata": {},
   "source": [
    "Q56) Write a Function to compute speed given distance and time. Accept distance and time as user inputs"
   ]
  },
  {
   "cell_type": "code",
   "execution_count": 141,
   "id": "58bf5ab4-3f19-4a96-84ee-ccd22e6e448a",
   "metadata": {},
   "outputs": [],
   "source": [
    "def speed():\n",
    "    dis = int(input(\"enter distance in m: \"))\n",
    "    time = int(input(\"enter time in s: \"))\n",
    "    speed = round(dis/time,2)\n",
    "    print(\"speed is \" , speed, 'm/s')"
   ]
  },
  {
   "cell_type": "code",
   "execution_count": 143,
   "id": "e52c4461-6b9d-4203-a616-6c01306f4333",
   "metadata": {},
   "outputs": [
    {
     "name": "stdin",
     "output_type": "stream",
     "text": [
      "enter distance in m:  500\n",
      "enter time in s:  20\n"
     ]
    },
    {
     "name": "stdout",
     "output_type": "stream",
     "text": [
      "speed is  25.0 m/s\n"
     ]
    }
   ],
   "source": [
    "speed()"
   ]
  },
  {
   "cell_type": "markdown",
   "id": "64cb5497-5a0a-48a7-ab70-86287948745a",
   "metadata": {},
   "source": [
    "Q57) Write a Function to print area of circle using its radius as user input"
   ]
  },
  {
   "cell_type": "code",
   "execution_count": 145,
   "id": "5f430643-1c8c-4f7e-b9ad-f8172301f7f4",
   "metadata": {},
   "outputs": [],
   "source": [
    "def area_cir():\n",
    "    radius = int(input('enter radius: '))\n",
    "    area = 3.14 * radius * radius \n",
    "    print('area as per the given radius',area,'m2')"
   ]
  },
  {
   "cell_type": "code",
   "execution_count": 147,
   "id": "8c88be91-2441-4d65-a55c-a18f48417322",
   "metadata": {},
   "outputs": [
    {
     "name": "stdin",
     "output_type": "stream",
     "text": [
      "enter radius:  10\n"
     ]
    },
    {
     "name": "stdout",
     "output_type": "stream",
     "text": [
      "area as per the given radius 314.0 m2\n"
     ]
    }
   ],
   "source": [
    "area_cir()"
   ]
  },
  {
   "cell_type": "code",
   "execution_count": null,
   "id": "9eb3ec58-5dd8-48d6-ad14-358b1bfcf10b",
   "metadata": {},
   "outputs": [],
   "source": [
    "Q58) Write a Function to print the diagonal and perimeter of rectangle. Accept length and area as user inputs"
   ]
  },
  {
   "cell_type": "code",
   "execution_count": 152,
   "id": "8ceceacd-546f-4d9a-a2f0-0561877fbd29",
   "metadata": {},
   "outputs": [],
   "source": [
    "def diag_peri():\n",
    "    len = int(input('enter len'))\n",
    "    area = int(input('enter area'))\n",
    "    breadth = area/len\n",
    "    peri = round(2*(len + breadth),2)\n",
    "    diag = round((len**2 + breadth **2)**0.5,2)\n",
    "    print('perimeter is ', peri)\n",
    "    print('diagnoal is ', diag)"
   ]
  },
  {
   "cell_type": "code",
   "execution_count": 153,
   "id": "dc8d08a7-46ea-4452-8bc2-8fdc18e11e28",
   "metadata": {},
   "outputs": [
    {
     "name": "stdin",
     "output_type": "stream",
     "text": [
      "enter len 20\n",
      "enter area 90\n"
     ]
    },
    {
     "name": "stdout",
     "output_type": "stream",
     "text": [
      "perimeter is  49.0\n",
      "diagnoal is  20.5\n"
     ]
    }
   ],
   "source": [
    "diag_peri()"
   ]
  },
  {
   "cell_type": "markdown",
   "id": "8a54fe1d-73a1-4d16-a124-971a54ce9944",
   "metadata": {},
   "source": [
    "Q59) Compute Electricity bill \n",
    "\n",
    "# Rules => Fixed charge = 250\n",
    "# If consumption < 300 => charge = 0\n",
    "# If 300<=consumption< 500 => charges = 10Rs per unit\n",
    "# If consumption>=500 => charges = 15Rs per unit"
   ]
  },
  {
   "cell_type": "code",
   "execution_count": 164,
   "id": "614e7257-9979-45d6-a3bb-7e393d55b278",
   "metadata": {},
   "outputs": [],
   "source": [
    "def compute_bill(x):\n",
    "    fx = 250\n",
    "    if x < 300:\n",
    "        bill = fx\n",
    "    elif 300<= x < 500:\n",
    "        ex_charges = (x-300) *10\n",
    "        bill = fx + ex_charges\n",
    "    else:\n",
    "        ex_charges = 200*10 + (x-500)*15\n",
    "        bill = fx + ex_charges\n",
    "    print(bill)"
   ]
  },
  {
   "cell_type": "code",
   "execution_count": 167,
   "id": "be981d2e-f814-48fe-8089-3753ee9db453",
   "metadata": {},
   "outputs": [
    {
     "name": "stdout",
     "output_type": "stream",
     "text": [
      "2200\n"
     ]
    }
   ],
   "source": [
    "compute_bill(495)"
   ]
  },
  {
   "cell_type": "code",
   "execution_count": 197,
   "id": "418f8ebb-945b-4968-8108-a7a5c66ad640",
   "metadata": {},
   "outputs": [],
   "source": [
    "Q60) Find square of a and b using lambda, a and b are parameters"
   ]
  },
  {
   "cell_type": "code",
   "execution_count": 199,
   "id": "833228cb-aa31-4a86-83f9-b684e90843c5",
   "metadata": {},
   "outputs": [],
   "source": [
    "w1 = lambda a,b : (a**2,b**2)"
   ]
  },
  {
   "cell_type": "code",
   "execution_count": 200,
   "id": "cd64168c-c034-420e-a47f-8d9110c7741c",
   "metadata": {},
   "outputs": [
    {
     "data": {
      "text/plain": [
       "(36, 49)"
      ]
     },
     "execution_count": 200,
     "metadata": {},
     "output_type": "execute_result"
    }
   ],
   "source": [
    "w1(6,7)"
   ]
  },
  {
   "cell_type": "markdown",
   "id": "ea7c14db-62cf-4155-92b2-2fbb8cc87cbf",
   "metadata": {},
   "source": [
    "Q61) using map and lambda\n",
    "i) Add 10 to each number\n",
    "ii) Add 10 to each even number and subtract 5 from each odd num\n",
    "iii) Filter out all odd num from the list num\n",
    "iv) For all the numbers divisible by 3 add 10, otherwise return -1 [-1,-1,25,34,22]"
   ]
  },
  {
   "cell_type": "code",
   "execution_count": 206,
   "id": "1b4fb5b7-a56c-4ae4-9c98-06c073ac934e",
   "metadata": {},
   "outputs": [
    {
     "name": "stdout",
     "output_type": "stream",
     "text": [
      "[20, 30, 40, 50, 55]\n"
     ]
    }
   ],
   "source": [
    "n = [10,20,30,40,45]\n",
    "n5 = list(map(lambda x : x+10,n))\n",
    "print(n5)"
   ]
  },
  {
   "cell_type": "code",
   "execution_count": 204,
   "id": "a6a46ddf-edc7-44f0-815e-ab2f38ba6711",
   "metadata": {},
   "outputs": [
    {
     "name": "stdout",
     "output_type": "stream",
     "text": [
      "[20, 30, 40, 50]\n"
     ]
    }
   ],
   "source": [
    "nEO = list(map(lambda x : x+10 if x%2==0 else x-5,n))\n",
    "print(nEO)"
   ]
  },
  {
   "cell_type": "code",
   "execution_count": 207,
   "id": "394a1f9a-4402-495b-9424-b4c9357b1d09",
   "metadata": {},
   "outputs": [
    {
     "name": "stdout",
     "output_type": "stream",
     "text": [
      "[45]\n"
     ]
    }
   ],
   "source": [
    "nfilter = list(filter(lambda x : x%2 !=0,n))\n",
    "print(nfilter)"
   ]
  },
  {
   "cell_type": "code",
   "execution_count": 209,
   "id": "65218c97-6c1a-4013-9635-6b1c6003371c",
   "metadata": {},
   "outputs": [
    {
     "data": {
      "text/plain": [
       "[-1, -1, 25, 34, 22]"
      ]
     },
     "execution_count": 209,
     "metadata": {},
     "output_type": "execute_result"
    }
   ],
   "source": [
    "n = [7, 10, 15, 24, 12]\n",
    "num = list(map(lambda x : x+10 if x%3 ==0 else -1, n)) \n",
    "num"
   ]
  },
  {
   "cell_type": "markdown",
   "id": "7ee31e19-774d-4d96-bc5d-c6d266bf7adf",
   "metadata": {},
   "source": [
    "Q62) dates = ['2025/03/04','2024/02/11','2025/04/17','2024/01/29','2025/02/20','2024/04/24']\n",
    "i) Find all dates where month is even\n",
    "ii) Add 2 yrs to each date\n",
    "iii) Find all dates where yr is even and date is odd"
   ]
  },
  {
   "cell_type": "code",
   "execution_count": 214,
   "id": "6b438229-acea-4931-94da-1380675523f7",
   "metadata": {},
   "outputs": [
    {
     "data": {
      "text/plain": [
       "['2024/02/11', '2024/01/29', '2024/04/24']"
      ]
     },
     "execution_count": 214,
     "metadata": {},
     "output_type": "execute_result"
    }
   ],
   "source": [
    "#i\n",
    "dates = ['2025/03/04','2024/02/11','2025/04/17','2024/01/29','2025/02/20','2024/04/24']\n",
    "y1 = list(filter(lambda x : int(x.split('/')[0])%2==0,dates))\n",
    "y1\n"
   ]
  },
  {
   "cell_type": "code",
   "execution_count": 217,
   "id": "3fecca56-070c-49a7-8d78-ecf78717fa46",
   "metadata": {},
   "outputs": [
    {
     "name": "stdout",
     "output_type": "stream",
     "text": [
      "['2027/03/04', '2026/02/11', '2027/04/17', '2026/01/29', '2027/02/20', '2026/04/24']\n"
     ]
    }
   ],
   "source": [
    "# ii\n",
    "y2 = list(map(lambda x : str(int(x.split('/')[0])+2) + x[4:],dates))\n",
    "print(y2)"
   ]
  },
  {
   "cell_type": "code",
   "execution_count": 218,
   "id": "d1da5df3-c641-40dd-8f5d-3046f5aa6147",
   "metadata": {},
   "outputs": [
    {
     "data": {
      "text/plain": [
       "['2024/02/11', '2024/01/29']"
      ]
     },
     "execution_count": 218,
     "metadata": {},
     "output_type": "execute_result"
    }
   ],
   "source": [
    "#iii\n",
    "y3 = list(filter(lambda x : int(x.split('/')[0])%2==0 and int(x.split('/')[2])%2!=0,dates))\n",
    "y3"
   ]
  },
  {
   "cell_type": "markdown",
   "id": "ffc9d8ec-cb82-4a8a-b1b1-f965b88ac5ed",
   "metadata": {},
   "source": [
    "Q63) s1 = ('alphabet','inflation','tariff','meeting','comprehension')\n",
    "i) Find all words that contains no 'a'\n",
    "ii) Find all words that contains multiple 'e'"
   ]
  },
  {
   "cell_type": "code",
   "execution_count": 225,
   "id": "0b669fdc-5adb-4d59-824f-d93e247270bb",
   "metadata": {},
   "outputs": [
    {
     "name": "stdout",
     "output_type": "stream",
     "text": [
      "['meeting', 'comprehension']\n"
     ]
    }
   ],
   "source": [
    "# i\n",
    "words = ('alphabet','inflation','tariff','meeting','comprehension')\n",
    "w = list(filter(lambda x: \"a\" not in x,words))\n",
    "print(w)"
   ]
  },
  {
   "cell_type": "code",
   "execution_count": 227,
   "id": "b54ecea8-2d80-46fd-b6ee-cfbbc9d560c8",
   "metadata": {},
   "outputs": [
    {
     "data": {
      "text/plain": [
       "['meeting', 'comprehension']"
      ]
     },
     "execution_count": 227,
     "metadata": {},
     "output_type": "execute_result"
    }
   ],
   "source": [
    "# ii) Find all words that contains multiple 'e'\n",
    "w2 = list(filter(lambda x: x.count(\"a\")<1,words))\n",
    "w2"
   ]
  },
  {
   "cell_type": "markdown",
   "id": "42766c93-26dd-4af8-a810-ae7fae755c59",
   "metadata": {},
   "source": [
    "Q64) i) Find all key:value from d1 where key is div by 3\n",
    "ii) Modify key:value from d1 such that 20 is added to value if key is even. Exclude remaining items\n",
    "d1 = {10:50,11:80,12:120,13:150,14:180,15:200}"
   ]
  },
  {
   "cell_type": "code",
   "execution_count": 233,
   "id": "2c5833a1-ef79-4b6c-9137-c8d6675aaff6",
   "metadata": {},
   "outputs": [
    {
     "data": {
      "text/plain": [
       "{12: 120, 15: 200}"
      ]
     },
     "execution_count": 233,
     "metadata": {},
     "output_type": "execute_result"
    }
   ],
   "source": [
    "# i \n",
    "d1 = {10:50,11:80,12:120,13:150,14:180,15:200}\n",
    "dict(filter(lambda x:  x[0]%3==0,d1.items())) "
   ]
  },
  {
   "cell_type": "code",
   "execution_count": 242,
   "id": "901d17d6-e515-4327-a78f-02cff5560a72",
   "metadata": {},
   "outputs": [
    {
     "data": {
      "text/plain": [
       "{10: 70, 12: 140, 14: 200}"
      ]
     },
     "execution_count": 242,
     "metadata": {},
     "output_type": "execute_result"
    }
   ],
   "source": [
    "# ii) Modify key:value from d1 such that 20 is added to value if key is even. Exclude remaining items\n",
    "d3 = dict(filter(lambda x : x[0]%2==0, d1.items()))\n",
    "d31 = dict(map(lambda x : (x[0],int(x[1])+20), d3.items()))\n",
    "d31"
   ]
  },
  {
   "cell_type": "markdown",
   "id": "02959cc9-75e3-4dfd-9f24-48421994df3f",
   "metadata": {},
   "source": [
    "Q65) d = [12,23,34,23,12,12,45,34,45,56,34,34,23,12,56] "
   ]
  },
  {
   "cell_type": "code",
   "execution_count": 246,
   "id": "0748baa1-68ca-4589-a043-739a5772335b",
   "metadata": {},
   "outputs": [
    {
     "name": "stdout",
     "output_type": "stream",
     "text": [
      "{12: 4, 23: 3, 34: 4, 45: 2, 56: 2}\n"
     ]
    }
   ],
   "source": [
    "# 1\n",
    "d = [12,23,34,23,12,12,45,34,45,56,34,34,23,12,56] \n",
    "h = {}\n",
    "for i in d:\n",
    "    h[i] = d.count(i)\n",
    "print(h)"
   ]
  },
  {
   "cell_type": "code",
   "execution_count": 248,
   "id": "84e422ea-1fcd-4f1f-b18a-d81a6a11ec9a",
   "metadata": {},
   "outputs": [
    {
     "name": "stdout",
     "output_type": "stream",
     "text": [
      "{12: 4, 23: 3, 34: 4, 45: 2, 56: 2}\n"
     ]
    }
   ],
   "source": [
    "# 2 \n",
    "h1 = {i: d.count(i) for i in d}\n",
    "print(h1)\n"
   ]
  },
  {
   "cell_type": "code",
   "execution_count": 255,
   "id": "2d2111d9-3176-4115-9a1e-712ff50f4912",
   "metadata": {},
   "outputs": [
    {
     "name": "stdout",
     "output_type": "stream",
     "text": [
      "{12: 4, 23: 3, 34: 4, 45: 2, 56: 2}\n"
     ]
    }
   ],
   "source": [
    "# 3\n",
    "h0 = []\n",
    "for i in d:\n",
    "    h0.append(d.count(i))\n",
    "h4 = dict(zip(d,h0))\n",
    "print(h4)"
   ]
  },
  {
   "cell_type": "markdown",
   "id": "52ff6b30-73e6-47b1-a4ac-46c1a9ba74b5",
   "metadata": {},
   "source": [
    "Q66) Write a function to compute SI given P,R and T as arguments"
   ]
  },
  {
   "cell_type": "code",
   "execution_count": 257,
   "id": "40c09d76-9ef4-4eda-978b-34a844b3d850",
   "metadata": {},
   "outputs": [],
   "source": [
    "def cal_SI(p,r,t):\n",
    "    return (p*r*t)/100"
   ]
  },
  {
   "cell_type": "code",
   "execution_count": 258,
   "id": "41945e2d-7686-4bfd-bfed-ab70659c14bf",
   "metadata": {},
   "outputs": [
    {
     "data": {
      "text/plain": [
       "60.0"
      ]
     },
     "execution_count": 258,
     "metadata": {},
     "output_type": "execute_result"
    }
   ],
   "source": [
    "cal_SI(20,30,10)"
   ]
  },
  {
   "cell_type": "markdown",
   "id": "411f9442-1b72-46b8-a028-4604931c000a",
   "metadata": {},
   "source": [
    "Q67) Assume any given list of marks(all integers between 1 to 100), find the second highest marks obtained from a list of marks."
   ]
  },
  {
   "cell_type": "code",
   "execution_count": 262,
   "id": "ad24ffa6-5606-44eb-bd72-ef5d5b81619c",
   "metadata": {},
   "outputs": [
    {
     "name": "stdout",
     "output_type": "stream",
     "text": [
      "76\n"
     ]
    }
   ],
   "source": [
    "list1 = [40,50,30,89,76,56]\n",
    "unique_marks = set(list1)\n",
    "if len(unique_marks) < 2:\n",
    "    print( \"not enough elements\")\n",
    "else: \n",
    "    print(sorted(unique_marks, reverse = True)[1])"
   ]
  },
  {
   "cell_type": "markdown",
   "id": "a0be12a5-5cfa-4795-a7c1-3021cd087d63",
   "metadata": {},
   "source": [
    "Q68) Create a function to generate a list containing common elements of two given lists.\n",
    "w1 = [1,2,3,4,67,78]\n",
    "w2 = [45,78,3,11,109]"
   ]
  },
  {
   "cell_type": "code",
   "execution_count": 265,
   "id": "cf5d5143-fd40-4878-ab6a-bd27c3e542bc",
   "metadata": {},
   "outputs": [],
   "source": [
    "def common_ele(w1,w2):\n",
    "    common = []\n",
    "    for i in w1:\n",
    "        if i in w2:\n",
    "            common.append(i)\n",
    "    return common"
   ]
  },
  {
   "cell_type": "code",
   "execution_count": 266,
   "id": "0b54a610-0614-4de6-989a-56b9609a00f1",
   "metadata": {},
   "outputs": [
    {
     "data": {
      "text/plain": [
       "[3, 78]"
      ]
     },
     "execution_count": 266,
     "metadata": {},
     "output_type": "execute_result"
    }
   ],
   "source": [
    "w1 = [1,2,3,4,67,78]\n",
    "w2 = [45,78,3,11,109]\n",
    "common_ele(w1,w2)"
   ]
  },
  {
   "cell_type": "markdown",
   "id": "176556e2-89f9-4a90-869b-0a87cbb7a134",
   "metadata": {},
   "source": [
    "Q69) Write a program that takes a list of words and returns the length of longest word and print the longest word as well.\n",
    "Assume any list of words"
   ]
  },
  {
   "cell_type": "code",
   "execution_count": 269,
   "id": "2e83aa4f-f819-4907-8db3-b6c98bd80dfd",
   "metadata": {},
   "outputs": [
    {
     "name": "stdout",
     "output_type": "stream",
     "text": [
      "10\n",
      "goosssssip\n"
     ]
    }
   ],
   "source": [
    "words = ['konika','hello','lovely','nidhi','goosssssip']\n",
    "c = 0\n",
    "for i in words:\n",
    "    if c < len(i):\n",
    "        c = len(i)\n",
    "print(c)\n",
    "print(i)"
   ]
  },
  {
   "cell_type": "markdown",
   "id": "500fb9a0-d9e2-4325-9f0f-9cafd491e553",
   "metadata": {},
   "source": [
    "Q70) Sort even-placed elements (according to thier index) in decreasing and odd-placed in increasing order \n",
    "and store them in a separate list and display them as output. Assume any list of numbers"
   ]
  },
  {
   "cell_type": "code",
   "execution_count": null,
   "id": "11a5360e-ef25-45f0-b541-fd2a45b0154c",
   "metadata": {},
   "outputs": [],
   "source": []
  },
  {
   "cell_type": "markdown",
   "id": "f9e46abe-1dd7-488b-aca8-f1c0926746d4",
   "metadata": {},
   "source": [
    "Q71) Find the difference between max value and min value in dict. Also find corresponding keys"
   ]
  },
  {
   "cell_type": "code",
   "execution_count": 274,
   "id": "8509e99b-efb3-42cf-bd85-a22b6cda3bb0",
   "metadata": {},
   "outputs": [
    {
     "name": "stdout",
     "output_type": "stream",
     "text": [
      "38\n",
      "max value key a2\n",
      "min value key a4\n"
     ]
    }
   ],
   "source": [
    "d = {'a1':20,'a2':45,'a3':40,'a4':7,'a5':32}\n",
    "maxv = max(d.values())\n",
    "minv = min(d.values())\n",
    "diff = maxv - minv\n",
    "print(diff)\n",
    "for k,v in d.items():\n",
    "    if v ==maxv:\n",
    "        print('max value key',k)\n",
    "    if v == minv:\n",
    "        print('min value key',k)"
   ]
  },
  {
   "cell_type": "code",
   "execution_count": 278,
   "id": "b680370f-ec88-47fb-9fb0-ec2914a998c6",
   "metadata": {},
   "outputs": [
    {
     "name": "stdout",
     "output_type": "stream",
     "text": [
      "max value key a2\n",
      "min value key a4\n"
     ]
    }
   ],
   "source": [
    "# or \n",
    "v = list(d.values())\n",
    "k = list(d.keys())\n",
    "maxv_index,minv_index = v.index(max(v)),v.index(min(v))\n",
    "print('max value key',k[maxv_index])\n",
    "print('min value key',k[minv_index])"
   ]
  },
  {
   "cell_type": "markdown",
   "id": "1f7e96f0-9bd1-4e9b-8b6e-860d2e8ee0d6",
   "metadata": {},
   "source": [
    "Q5) Print words that start and end with same character\n",
    "words = ['India','Australia','Europe','Argentina','Chile','Japan']"
   ]
  },
  {
   "cell_type": "code",
   "execution_count": 283,
   "id": "76c69cb0-ba17-4fad-9239-63a0a975bd78",
   "metadata": {},
   "outputs": [
    {
     "name": "stdout",
     "output_type": "stream",
     "text": [
      "['Australia', 'Europe', 'Argentina']\n"
     ]
    }
   ],
   "source": [
    "words = ['India','Australia','Europe','Argentina','Chile','Japan']\n",
    "same_ch = []\n",
    "for i in words:\n",
    "    if i[0].lower() == i[-1].lower():\n",
    "        same_ch.append(i)\n",
    "print(same_ch)"
   ]
  },
  {
   "cell_type": "code",
   "execution_count": null,
   "id": "9c6bc452-f4af-49fd-89a2-6b88f836ff8f",
   "metadata": {},
   "outputs": [],
   "source": []
  },
  {
   "cell_type": "code",
   "execution_count": null,
   "id": "aabd272a-17da-41ae-9cee-cc25af82ab41",
   "metadata": {},
   "outputs": [],
   "source": []
  },
  {
   "cell_type": "code",
   "execution_count": null,
   "id": "f6462866-3a42-45ec-8f96-5dacb2819c85",
   "metadata": {},
   "outputs": [],
   "source": []
  },
  {
   "cell_type": "code",
   "execution_count": null,
   "id": "0c40b713-8301-452b-973a-70375aebea15",
   "metadata": {},
   "outputs": [],
   "source": []
  }
 ],
 "metadata": {
  "kernelspec": {
   "display_name": "Python 3 (ipykernel)",
   "language": "python",
   "name": "python3"
  },
  "language_info": {
   "codemirror_mode": {
    "name": "ipython",
    "version": 3
   },
   "file_extension": ".py",
   "mimetype": "text/x-python",
   "name": "python",
   "nbconvert_exporter": "python",
   "pygments_lexer": "ipython3",
   "version": "3.12.7"
  }
 },
 "nbformat": 4,
 "nbformat_minor": 5
}
